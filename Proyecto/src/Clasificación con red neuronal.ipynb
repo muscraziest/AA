{
 "cells": [
  {
   "cell_type": "code",
   "execution_count": 11,
   "metadata": {
    "collapsed": false
   },
   "outputs": [
    {
     "name": "stdout",
     "output_type": "stream",
     "text": [
      "Populating the interactive namespace from numpy and matplotlib\n"
     ]
    }
   ],
   "source": [
    "%pylab inline\n",
    "import numpy as np\n",
    "import pandas as pd\n",
    "\n",
    "from keras.models import Sequential\n",
    "from keras.layers import Dense, Activation\n",
    "from keras.regularizers import l1\n",
    "\n",
    "import pyprind"
   ]
  },
  {
   "cell_type": "markdown",
   "metadata": {},
   "source": [
    "# Loading data"
   ]
  },
  {
   "cell_type": "code",
   "execution_count": 2,
   "metadata": {
    "collapsed": false
   },
   "outputs": [],
   "source": [
    "data_train = pd.read_csv('UCI HAR Dataset/train/train.csv')\n",
    "data_test  = pd.read_csv('UCI HAR Dataset/test/test.csv')"
   ]
  },
  {
   "cell_type": "code",
   "execution_count": 3,
   "metadata": {
    "collapsed": false,
    "scrolled": true
   },
   "outputs": [],
   "source": [
    "X_train = data_train.iloc[:, 1:-6]\n",
    "Y_train = data_train.iloc[:,-6:]\n",
    "\n",
    "X_test = data_test.iloc[:, 1:-6]\n",
    "Y_test = data_test.iloc[:,-6:]"
   ]
  },
  {
   "cell_type": "code",
   "execution_count": 4,
   "metadata": {
    "collapsed": false,
    "scrolled": true
   },
   "outputs": [
    {
     "data": {
      "text/plain": [
       "(7352, 561)"
      ]
     },
     "execution_count": 4,
     "metadata": {},
     "output_type": "execute_result"
    }
   ],
   "source": [
    "X_train.shape"
   ]
  },
  {
   "cell_type": "code",
   "execution_count": 5,
   "metadata": {
    "collapsed": false
   },
   "outputs": [],
   "source": [
    "np_X_train = X_train.as_matrix()\n",
    "np_Y_train = Y_train.as_matrix()\n",
    "\n",
    "np_X_test = X_test.as_matrix()\n",
    "np_Y_test = Y_test.as_matrix()"
   ]
  },
  {
   "cell_type": "markdown",
   "metadata": {},
   "source": [
    "# Creating the model"
   ]
  },
  {
   "cell_type": "code",
   "execution_count": 7,
   "metadata": {
    "collapsed": false
   },
   "outputs": [],
   "source": [
    "def create_model(p=None):\n",
    "    \"\"\"\n",
    "    Creates a model based on parameters `p`.\n",
    "\n",
    "    Example:\n",
    "    \n",
    "        p = {'hidden': [64,32], \n",
    "             'activation_func': 'tanh', #'relu', 'tanh',\n",
    "             'l1_reg': 0.01, \n",
    "             'optimizer_method': 'SGD'} #'SGD', 'adadelta' \n",
    "             \n",
    "        model = create_model(p)\n",
    "        \n",
    "    \"\"\"\n",
    "    \n",
    "    if p==None:\n",
    "        p = {'hidden': [32],\n",
    "             'activation_func': 'tanh',\n",
    "             'l1_reg': 0.01,\n",
    "             'optimizer_method': 'SGD'}\n",
    "    hidden = p.get('hidden', [32])\n",
    "    activation_func = p.get('activation_func', 'tanh')\n",
    "    l1_reg = p.get('l1_reg', 0.01)\n",
    "    optimizer_method = p.get('optimizer_method', 'SGD')\n",
    "    \n",
    "    model = Sequential()\n",
    "    model.add(Dense(hidden[0], \n",
    "                    input_dim=561, \n",
    "                    activation=activation_func, \n",
    "                    W_regularizer=l1(l1_reg)))\n",
    "    hidden = hidden[1:]\n",
    "    for h in hidden:\n",
    "        model.add(Dense(h, activation=activation_func, W_regularizer=l1(l1_reg)))\n",
    "    \n",
    "    model.add(Dense(6, activation='softmax'))\n",
    "    \n",
    "    model.compile(loss='categorical_crossentropy', optimizer=optimizer_method, metrics=['accuracy'])\n",
    "    \n",
    "    return model"
   ]
  },
  {
   "cell_type": "markdown",
   "metadata": {},
   "source": [
    "# Training"
   ]
  },
  {
   "cell_type": "markdown",
   "metadata": {},
   "source": [
    "### Cross-validation"
   ]
  },
  {
   "cell_type": "code",
   "execution_count": 8,
   "metadata": {
    "collapsed": false,
    "scrolled": true
   },
   "outputs": [],
   "source": [
    "def cross_validation(X,Y, k=10, nn_p=None, verboise=True):\n",
    "    \"\"\"\n",
    "    Runs a k-folded cross validation over a training set. Returns the classification error obtained.\n",
    "    \n",
    "    Example:    \n",
    "    \n",
    "        error = cross_validation(np_X_train, np_Y_train)\n",
    "        \n",
    "    \"\"\"\n",
    "    \n",
    "    if nn_p==None:\n",
    "        nn_p = {'hidden': [32], \n",
    "                'activation_func': 'tanh', #'relu', 'tanh',\n",
    "                'l1_reg': 0.01, \n",
    "                'optimizer_method': 'SGD', #'SGD', 'adadelta'\n",
    "                'epochs': 10} #Not used in this example, but in cross-validation.\n",
    "    hidden = nn_p.get('hidden', [32])\n",
    "    activation_func = nn_p.get('activation_func', 'tanh')\n",
    "    l1_reg = nn_p.get('l1_reg', 0.01)\n",
    "    optimizer_method = nn_p.get('optimizer_method', 'SGD')\n",
    "    epochs = nn_p.get('epochs', 10)\n",
    "\n",
    "    groups = np.random.choice(X.shape[0],X.shape[0], replace=False) % k\n",
    "    \n",
    "    classification_error = []    \n",
    "    if verboise: \n",
    "        print(\"{}-folded cross-validation:\".format(k))\n",
    "        bar = pyprind.ProgBar(k)\n",
    "    \n",
    "    for i in xrange(k):\n",
    "        i_train = groups!=i\n",
    "        i_test = groups==i    \n",
    "        \n",
    "        model = create_model(nn_p)\n",
    "        training_results = model.fit(X[i_train,:], Y[i_train,:], \n",
    "                                     validation_data=(X[i_test,:],Y[i_test,:]),\n",
    "                                     nb_epoch=epochs,\n",
    "                                     verbose=0)\n",
    "        classification_error.append(1 - training_results.history['val_acc'][-1])\n",
    "        if verboise: bar.update()\n",
    "          \n",
    "    classification_error = mean(classification_error)\n",
    "    if verboise: print(\"{}-folded cross-validation classification error: {}\".format(k, classification_error))\n",
    "    \n",
    "    return classification_error"
   ]
  },
  {
   "cell_type": "markdown",
   "metadata": {},
   "source": [
    "### Grid search"
   ]
  },
  {
   "cell_type": "code",
   "execution_count": 9,
   "metadata": {
    "collapsed": false
   },
   "outputs": [],
   "source": [
    "def grid_search(data, \n",
    "                hiddens=None, l1_regs=None, activation_func=None, optimizer_method=None, epochs=None, \n",
    "                cv_groups=10):\n",
    "    \"\"\"\n",
    "    Runs a grid search using cross-validation over the hyper-parameters passed. Returns \n",
    "    classification error for each configuration.\n",
    "    \n",
    "    Example:\n",
    "        \n",
    "        hiddens = [[10], [32]]\n",
    "        l1_regs = [1, 0]\n",
    "        grid_search_results = grid_search((np_X_train, np_Y_train), \n",
    "                                          hiddens=hiddens, l1_regs=l1_regs, \n",
    "                                          cv_groups=2)\n",
    "\n",
    "    \"\"\"\n",
    "    if hiddens==None: hiddens=[32]\n",
    "    if l1_regs==None: l1_regs=[0.01]\n",
    "    if activation_func==None: activation_func=['tanh']\n",
    "    if optimizer_method==None: optimizer_method=['SGD']\n",
    "    if epochs==None: epochs=[10]\n",
    "    \n",
    "    grid = [{'hidden':a, \n",
    "             'l1_reg':b, \n",
    "             'activation_func':c, \n",
    "             'optimizer_method':d, \n",
    "             'epochs':e}\n",
    "            for a in hiddens \n",
    "            for b in l1_regs\n",
    "            for c in activation_func\n",
    "            for d in optimizer_method\n",
    "            for e in epochs]\n",
    "    \n",
    "    bar = pyprind.ProgBar(len(grid))    \n",
    "    for p in grid:\n",
    "        p['classification_error'] = cross_validation(data[0], data[1], nn_p=p, k=cv_groups, verboise=False)\n",
    "        bar.update()\n",
    "    \n",
    "    return grid"
   ]
  },
  {
   "cell_type": "code",
   "execution_count": 12,
   "metadata": {
    "collapsed": false,
    "scrolled": false
   },
   "outputs": [
    {
     "name": "stderr",
     "output_type": "stream",
     "text": [
      "0%                          100%\n",
      "[##############################] | ETA: 00:00:00"
     ]
    },
    {
     "name": "stdout",
     "output_type": "stream",
     "text": [
      "[{'activation_func': 'tanh', 'epochs': 10, 'optimizer_method': 'SGD', 'l1_reg': 1, 'hidden': [64, 32], 'classification_error': 0.80862350380848746}, {'activation_func': 'tanh', 'epochs': 10, 'optimizer_method': 'adadelta', 'l1_reg': 1, 'hidden': [64, 32], 'classification_error': 0.81719260065288357}, {'activation_func': 'tanh', 'epochs': 10, 'optimizer_method': 'SGD', 'l1_reg': 0.1, 'hidden': [64, 32], 'classification_error': 0.80862350380848746}, {'activation_func': 'tanh', 'epochs': 10, 'optimizer_method': 'adadelta', 'l1_reg': 0.1, 'hidden': [64, 32], 'classification_error': 0.80862350380848746}, {'activation_func': 'tanh', 'epochs': 10, 'optimizer_method': 'SGD', 'l1_reg': 0.01, 'hidden': [64, 32], 'classification_error': 0.13506528822719338}, {'activation_func': 'tanh', 'epochs': 10, 'optimizer_method': 'adadelta', 'l1_reg': 0.01, 'hidden': [64, 32], 'classification_error': 0.10922198044592196}, {'activation_func': 'tanh', 'epochs': 10, 'optimizer_method': 'SGD', 'l1_reg': 0.001, 'hidden': [64, 32], 'classification_error': 0.073721436343852031}, {'activation_func': 'tanh', 'epochs': 10, 'optimizer_method': 'adadelta', 'l1_reg': 0.001, 'hidden': [64, 32], 'classification_error': 0.056447225244831367}, {'activation_func': 'tanh', 'epochs': 10, 'optimizer_method': 'SGD', 'l1_reg': 0.0001, 'hidden': [64, 32], 'classification_error': 0.073177366702938007}, {'activation_func': 'tanh', 'epochs': 10, 'optimizer_method': 'adadelta', 'l1_reg': 0.0001, 'hidden': [64, 32], 'classification_error': 0.036180631120783457}, {'activation_func': 'tanh', 'epochs': 10, 'optimizer_method': 'SGD', 'l1_reg': 0, 'hidden': [64, 32], 'classification_error': 0.080522306855277448}, {'activation_func': 'tanh', 'epochs': 10, 'optimizer_method': 'adadelta', 'l1_reg': 0, 'hidden': [64, 32], 'classification_error': 0.038900979325353635}, {'activation_func': 'tanh', 'epochs': 10, 'optimizer_method': 'SGD', 'l1_reg': 1, 'hidden': [32, 10], 'classification_error': 0.81284004352557127}, {'activation_func': 'tanh', 'epochs': 10, 'optimizer_method': 'adadelta', 'l1_reg': 1, 'hidden': [32, 10], 'classification_error': 0.81338411316648529}, {'activation_func': 'tanh', 'epochs': 10, 'optimizer_method': 'SGD', 'l1_reg': 0.1, 'hidden': [32, 10], 'classification_error': 0.72728509249183904}, {'activation_func': 'tanh', 'epochs': 10, 'optimizer_method': 'adadelta', 'l1_reg': 0.1, 'hidden': [32, 10], 'classification_error': 0.81596844396082702}, {'activation_func': 'tanh', 'epochs': 10, 'optimizer_method': 'SGD', 'l1_reg': 0.01, 'hidden': [32, 10], 'classification_error': 0.21572361262241568}, {'activation_func': 'tanh', 'epochs': 10, 'optimizer_method': 'adadelta', 'l1_reg': 0.01, 'hidden': [32, 10], 'classification_error': 0.12282372143634385}, {'activation_func': 'tanh', 'epochs': 10, 'optimizer_method': 'SGD', 'l1_reg': 0.001, 'hidden': [32, 10], 'classification_error': 0.091811751839385558}, {'activation_func': 'tanh', 'epochs': 10, 'optimizer_method': 'adadelta', 'l1_reg': 0.001, 'hidden': [32, 10], 'classification_error': 0.052094668117519061}, {'activation_func': 'tanh', 'epochs': 10, 'optimizer_method': 'SGD', 'l1_reg': 0.0001, 'hidden': [32, 10], 'classification_error': 0.094668117519042416}, {'activation_func': 'tanh', 'epochs': 10, 'optimizer_method': 'adadelta', 'l1_reg': 0.0001, 'hidden': [32, 10], 'classification_error': 0.039173014145810647}, {'activation_func': 'tanh', 'epochs': 10, 'optimizer_method': 'SGD', 'l1_reg': 0, 'hidden': [32, 10], 'classification_error': 0.096300326441784545}, {'activation_func': 'tanh', 'epochs': 10, 'optimizer_method': 'adadelta', 'l1_reg': 0, 'hidden': [32, 10], 'classification_error': 0.045701849836779107}, {'activation_func': 'tanh', 'epochs': 10, 'optimizer_method': 'SGD', 'l1_reg': 1, 'hidden': [10, 5], 'classification_error': 0.80862350380848746}, {'activation_func': 'tanh', 'epochs': 10, 'optimizer_method': 'adadelta', 'l1_reg': 1, 'hidden': [10, 5], 'classification_error': 0.81338411316648529}, {'activation_func': 'tanh', 'epochs': 10, 'optimizer_method': 'SGD', 'l1_reg': 0.1, 'hidden': [10, 5], 'classification_error': 0.64118607180503162}, {'activation_func': 'tanh', 'epochs': 10, 'optimizer_method': 'adadelta', 'l1_reg': 0.1, 'hidden': [10, 5], 'classification_error': 0.6630848748639826}, {'activation_func': 'tanh', 'epochs': 10, 'optimizer_method': 'SGD', 'l1_reg': 0.01, 'hidden': [10, 5], 'classification_error': 0.31868879211675355}, {'activation_func': 'tanh', 'epochs': 10, 'optimizer_method': 'adadelta', 'l1_reg': 0.01, 'hidden': [10, 5], 'classification_error': 0.25285636577694409}, {'activation_func': 'tanh', 'epochs': 10, 'optimizer_method': 'SGD', 'l1_reg': 0.001, 'hidden': [10, 5], 'classification_error': 0.10826985854189336}, {'activation_func': 'tanh', 'epochs': 10, 'optimizer_method': 'adadelta', 'l1_reg': 0.001, 'hidden': [10, 5], 'classification_error': 0.080658324265505954}, {'activation_func': 'tanh', 'epochs': 10, 'optimizer_method': 'SGD', 'l1_reg': 0.0001, 'hidden': [10, 5], 'classification_error': 0.14662676822633297}, {'activation_func': 'tanh', 'epochs': 10, 'optimizer_method': 'adadelta', 'l1_reg': 0.0001, 'hidden': [10, 5], 'classification_error': 0.093035908596300343}, {'activation_func': 'tanh', 'epochs': 10, 'optimizer_method': 'SGD', 'l1_reg': 0, 'hidden': [10, 5], 'classification_error': 0.22687704016386623}, {'activation_func': 'tanh', 'epochs': 10, 'optimizer_method': 'adadelta', 'l1_reg': 0, 'hidden': [10, 5], 'classification_error': 0.088819368814358368}, {'activation_func': 'tanh', 'epochs': 10, 'optimizer_method': 'SGD', 'l1_reg': 1, 'hidden': [64], 'classification_error': 0.8375952122195891}, {'activation_func': 'tanh', 'epochs': 10, 'optimizer_method': 'adadelta', 'l1_reg': 1, 'hidden': [64], 'classification_error': 0.81365614798694241}, {'activation_func': 'tanh', 'epochs': 10, 'optimizer_method': 'SGD', 'l1_reg': 0.1, 'hidden': [64], 'classification_error': 0.55318280739934711}, {'activation_func': 'tanh', 'epochs': 10, 'optimizer_method': 'adadelta', 'l1_reg': 0.1, 'hidden': [64], 'classification_error': 0.49999999998783906}, {'activation_func': 'tanh', 'epochs': 10, 'optimizer_method': 'SGD', 'l1_reg': 0.01, 'hidden': [64], 'classification_error': 0.16376496201241236}, {'activation_func': 'tanh', 'epochs': 10, 'optimizer_method': 'adadelta', 'l1_reg': 0.01, 'hidden': [64], 'classification_error': 0.13914581059890679}, {'activation_func': 'tanh', 'epochs': 10, 'optimizer_method': 'SGD', 'l1_reg': 0.001, 'hidden': [64], 'classification_error': 0.088683351468988036}, {'activation_func': 'tanh', 'epochs': 10, 'optimizer_method': 'adadelta', 'l1_reg': 0.001, 'hidden': [64], 'classification_error': 0.048422198041349285}, {'activation_func': 'tanh', 'epochs': 10, 'optimizer_method': 'SGD', 'l1_reg': 0.0001, 'hidden': [64], 'classification_error': 0.085146898803046767}, {'activation_func': 'tanh', 'epochs': 10, 'optimizer_method': 'adadelta', 'l1_reg': 0.0001, 'hidden': [64], 'classification_error': 0.043525571273122954}, {'activation_func': 'tanh', 'epochs': 10, 'optimizer_method': 'SGD', 'l1_reg': 0, 'hidden': [64], 'classification_error': 0.087867247007617}, {'activation_func': 'tanh', 'epochs': 10, 'optimizer_method': 'adadelta', 'l1_reg': 0, 'hidden': [64], 'classification_error': 0.03645266594124047}, {'activation_func': 'tanh', 'epochs': 10, 'optimizer_method': 'SGD', 'l1_reg': 1, 'hidden': [32], 'classification_error': 0.81079978237214367}, {'activation_func': 'tanh', 'epochs': 10, 'optimizer_method': 'adadelta', 'l1_reg': 1, 'hidden': [32], 'classification_error': 0.81011969532100103}, {'activation_func': 'tanh', 'epochs': 10, 'optimizer_method': 'SGD', 'l1_reg': 0.1, 'hidden': [32], 'classification_error': 0.58242655063090565}, {'activation_func': 'tanh', 'epochs': 10, 'optimizer_method': 'adadelta', 'l1_reg': 0.1, 'hidden': [32], 'classification_error': 0.45606637649619153}, {'activation_func': 'tanh', 'epochs': 10, 'optimizer_method': 'SGD', 'l1_reg': 0.01, 'hidden': [32], 'classification_error': 0.18566376509163141}, {'activation_func': 'tanh', 'epochs': 10, 'optimizer_method': 'adadelta', 'l1_reg': 0.01, 'hidden': [32], 'classification_error': 0.14621871599564745}, {'activation_func': 'tanh', 'epochs': 10, 'optimizer_method': 'SGD', 'l1_reg': 0.001, 'hidden': [32], 'classification_error': 0.084194776931447224}, {'activation_func': 'tanh', 'epochs': 10, 'optimizer_method': 'adadelta', 'l1_reg': 0.001, 'hidden': [32], 'classification_error': 0.059031556039172983}, {'activation_func': 'tanh', 'epochs': 10, 'optimizer_method': 'SGD', 'l1_reg': 0.0001, 'hidden': [32], 'classification_error': 0.093307943416757355}, {'activation_func': 'tanh', 'epochs': 10, 'optimizer_method': 'adadelta', 'l1_reg': 0.0001, 'hidden': [32], 'classification_error': 0.044613710554951058}, {'activation_func': 'tanh', 'epochs': 10, 'optimizer_method': 'SGD', 'l1_reg': 0, 'hidden': [32], 'classification_error': 0.089227421109902061}, {'activation_func': 'tanh', 'epochs': 10, 'optimizer_method': 'adadelta', 'l1_reg': 0, 'hidden': [32], 'classification_error': 0.04787812840043526}, {'activation_func': 'tanh', 'epochs': 10, 'optimizer_method': 'SGD', 'l1_reg': 1, 'hidden': [10], 'classification_error': 0.82018498366574988}, {'activation_func': 'tanh', 'epochs': 10, 'optimizer_method': 'adadelta', 'l1_reg': 1, 'hidden': [10], 'classification_error': 0.81637649619151254}, {'activation_func': 'tanh', 'epochs': 10, 'optimizer_method': 'SGD', 'l1_reg': 0.1, 'hidden': [10], 'classification_error': 0.4345756257773743}, {'activation_func': 'tanh', 'epochs': 10, 'optimizer_method': 'adadelta', 'l1_reg': 0.1, 'hidden': [10], 'classification_error': 0.47510881392210236}, {'activation_func': 'tanh', 'epochs': 10, 'optimizer_method': 'SGD', 'l1_reg': 0.01, 'hidden': [10], 'classification_error': 0.13030467893405367}, {'activation_func': 'tanh', 'epochs': 10, 'optimizer_method': 'adadelta', 'l1_reg': 0.01, 'hidden': [10], 'classification_error': 0.10405331882480956}, {'activation_func': 'tanh', 'epochs': 10, 'optimizer_method': 'SGD', 'l1_reg': 0.001, 'hidden': [10], 'classification_error': 0.089091403699673555}, {'activation_func': 'tanh', 'epochs': 10, 'optimizer_method': 'adadelta', 'l1_reg': 0.001, 'hidden': [10], 'classification_error': 0.066648531011969547}, {'activation_func': 'tanh', 'epochs': 10, 'optimizer_method': 'SGD', 'l1_reg': 0.0001, 'hidden': [10], 'classification_error': 0.093715995647442873}, {'activation_func': 'tanh', 'epochs': 10, 'optimizer_method': 'adadelta', 'l1_reg': 0.0001, 'hidden': [10], 'classification_error': 0.057263329706202404}, {'activation_func': 'tanh', 'epochs': 10, 'optimizer_method': 'SGD', 'l1_reg': 0, 'hidden': [10], 'classification_error': 0.10160500544069645}, {'activation_func': 'tanh', 'epochs': 10, 'optimizer_method': 'adadelta', 'l1_reg': 0, 'hidden': [10], 'classification_error': 0.05984766050054402}]\n",
      "{'activation_func': 'tanh', 'epochs': 10, 'optimizer_method': 'adadelta', 'l1_reg': 0.0001, 'hidden': [64, 32], 'classification_error': 0.036180631120783457}\n"
     ]
    },
    {
     "name": "stderr",
     "output_type": "stream",
     "text": [
      "\n",
      "Total time elapsed: 00:43:51\n"
     ]
    }
   ],
   "source": [
    "# Hacemos una grid search\n",
    "hiddens = [[64,32], [32,10], [10,5], [64], [32], [10]]\n",
    "l1_regs = [1, 1e-1, 1e-2, 1e-3, 1e-4, 0]\n",
    "activation_func = ['tanh']\n",
    "optimizer_method = ['SGD', 'adadelta']\n",
    "epochs = [10]\n",
    "\n",
    "grid_search_results = grid_search((np_X_train, np_Y_train), \n",
    "                                  hiddens=hiddens, \n",
    "                                  l1_regs=l1_regs,\n",
    "                                  activation_func=activation_func,\n",
    "                                  optimizer_method=optimizer_method,\n",
    "                                  epochs=epochs,\n",
    "                                  cv_groups=2)\n",
    "print(grid_search_results)\n",
    "\n",
    "# Elegimos el mejor modelo\n",
    "best_params = {}\n",
    "for m in grid_search_results:\n",
    "    if m['classification_error'] < best_params.get('classification_error', np.inf):\n",
    "        best_params = m\n",
    "print(best_params)"
   ]
  },
  {
   "cell_type": "code",
   "execution_count": 13,
   "metadata": {
    "collapsed": false
   },
   "outputs": [],
   "source": [
    "d = [{'activation_func': 'tanh', 'epochs': 10, 'optimizer_method': 'SGD', 'hidden': [64, 32], 'l2_reg': 1, 'classification_error': 0.63152883567880758}, {'activation_func': 'tanh', 'epochs': 10, 'optimizer_method': 'adadelta', 'hidden': [64, 32], 'l2_reg': 1, 'classification_error': 0.60663764960293665}, {'activation_func': 'tanh', 'epochs': 10, 'optimizer_method': 'SGD', 'hidden': [64, 32], 'l2_reg': 0.1, 'classification_error': 0.14893906413535946}, {'activation_func': 'tanh', 'epochs': 10, 'optimizer_method': 'adadelta', 'hidden': [64, 32], 'l2_reg': 0.1, 'classification_error': 0.15505984766050057}, {'activation_func': 'tanh', 'epochs': 10, 'optimizer_method': 'SGD', 'hidden': [64, 32], 'l2_reg': 0.01, 'classification_error': 0.079978237214363479}, {'activation_func': 'tanh', 'epochs': 10, 'optimizer_method': 'adadelta', 'hidden': [64, 32], 'l2_reg': 0.01, 'classification_error': 0.082018498367791071}, {'activation_func': 'tanh', 'epochs': 10, 'optimizer_method': 'SGD', 'hidden': [64, 32], 'l2_reg': 0.001, 'classification_error': 0.07712187159956474}, {'activation_func': 'tanh', 'epochs': 10, 'optimizer_method': 'adadelta', 'hidden': [64, 32], 'l2_reg': 0.001, 'classification_error': 0.036180631120783457}, {'activation_func': 'tanh', 'epochs': 10, 'optimizer_method': 'SGD', 'hidden': [64, 32], 'l2_reg': 0.0001, 'classification_error': 0.081882480957562565}, {'activation_func': 'tanh', 'epochs': 10, 'optimizer_method': 'adadelta', 'hidden': [64, 32], 'l2_reg': 0.0001, 'classification_error': 0.050734494015234}, {'activation_func': 'tanh', 'epochs': 10, 'optimizer_method': 'SGD', 'hidden': [64, 32], 'l2_reg': 0, 'classification_error': 0.072361262241566915}, {'activation_func': 'tanh', 'epochs': 10, 'optimizer_method': 'adadelta', 'hidden': [64, 32], 'l2_reg': 0, 'classification_error': 0.05318280739934711}, {'activation_func': 'tanh', 'epochs': 10, 'optimizer_method': 'SGD', 'hidden': [32, 10], 'l2_reg': 1, 'classification_error': 0.63261697496468927}, {'activation_func': 'tanh', 'epochs': 10, 'optimizer_method': 'adadelta', 'hidden': [32, 10], 'l2_reg': 1, 'classification_error': 0.64077801958650704}, {'activation_func': 'tanh', 'epochs': 10, 'optimizer_method': 'SGD', 'hidden': [32, 10], 'l2_reg': 0.1, 'classification_error': 0.17668661582197537}, {'activation_func': 'tanh', 'epochs': 10, 'optimizer_method': 'adadelta', 'hidden': [32, 10], 'l2_reg': 0.1, 'classification_error': 0.14553862894450487}, {'activation_func': 'tanh', 'epochs': 10, 'optimizer_method': 'SGD', 'hidden': [32, 10], 'l2_reg': 0.01, 'classification_error': 0.09153971708378672}, {'activation_func': 'tanh', 'epochs': 10, 'optimizer_method': 'adadelta', 'hidden': [32, 10], 'l2_reg': 0.01, 'classification_error': 0.069912948857453749}, {'activation_func': 'tanh', 'epochs': 10, 'optimizer_method': 'SGD', 'hidden': [32, 10], 'l2_reg': 0.001, 'classification_error': 0.082018498367791071}, {'activation_func': 'tanh', 'epochs': 10, 'optimizer_method': 'adadelta', 'hidden': [32, 10], 'l2_reg': 0.001, 'classification_error': 0.042845484221980368}, {'activation_func': 'tanh', 'epochs': 10, 'optimizer_method': 'SGD', 'hidden': [32, 10], 'l2_reg': 0.0001, 'classification_error': 0.079026115342763881}, {'activation_func': 'tanh', 'epochs': 10, 'optimizer_method': 'adadelta', 'hidden': [32, 10], 'l2_reg': 0.0001, 'classification_error': 0.051822633297062048}, {'activation_func': 'tanh', 'epochs': 10, 'optimizer_method': 'SGD', 'hidden': [32, 10], 'l2_reg': 0, 'classification_error': 0.088819368879216543}, {'activation_func': 'tanh', 'epochs': 10, 'optimizer_method': 'adadelta', 'hidden': [32, 10], 'l2_reg': 0, 'classification_error': 0.038084874863982598}, {'activation_func': 'tanh', 'epochs': 10, 'optimizer_method': 'SGD', 'hidden': [10, 5], 'l2_reg': 1, 'classification_error': 0.81270402611534276}, {'activation_func': 'tanh', 'epochs': 10, 'optimizer_method': 'adadelta', 'hidden': [10, 5], 'l2_reg': 1, 'classification_error': 0.60908596301947893}, {'activation_func': 'tanh', 'epochs': 10, 'optimizer_method': 'SGD', 'hidden': [10, 5], 'l2_reg': 0.1, 'classification_error': 0.33569096847638991}, {'activation_func': 'tanh', 'epochs': 10, 'optimizer_method': 'adadelta', 'hidden': [10, 5], 'l2_reg': 0.1, 'classification_error': 0.26686615896562238}, {'activation_func': 'tanh', 'epochs': 10, 'optimizer_method': 'SGD', 'hidden': [10, 5], 'l2_reg': 0.01, 'classification_error': 0.10963003264417848}, {'activation_func': 'tanh', 'epochs': 10, 'optimizer_method': 'adadelta', 'hidden': [10, 5], 'l2_reg': 0.01, 'classification_error': 0.07181719260065289}, {'activation_func': 'tanh', 'epochs': 10, 'optimizer_method': 'SGD', 'hidden': [10, 5], 'l2_reg': 0.001, 'classification_error': 0.087051142643533141}, {'activation_func': 'tanh', 'epochs': 10, 'optimizer_method': 'adadelta', 'hidden': [10, 5], 'l2_reg': 0.001, 'classification_error': 0.18743199139217298}, {'activation_func': 'tanh', 'epochs': 10, 'optimizer_method': 'SGD', 'hidden': [10, 5], 'l2_reg': 0.0001, 'classification_error': 0.18348748639825896}, {'activation_func': 'tanh', 'epochs': 10, 'optimizer_method': 'adadelta', 'hidden': [10, 5], 'l2_reg': 0.0001, 'classification_error': 0.067872687704026102}, {'activation_func': 'tanh', 'epochs': 10, 'optimizer_method': 'SGD', 'hidden': [10, 5], 'l2_reg': 0, 'classification_error': 0.17274211092534858}, {'activation_func': 'tanh', 'epochs': 10, 'optimizer_method': 'adadelta', 'hidden': [10, 5], 'l2_reg': 0, 'classification_error': 0.070865070729053348}, {'activation_func': 'tanh', 'epochs': 10, 'optimizer_method': 'SGD', 'hidden': [64], 'l2_reg': 1, 'classification_error': 0.30726332980348958}, {'activation_func': 'tanh', 'epochs': 10, 'optimizer_method': 'adadelta', 'hidden': [64], 'l2_reg': 1, 'classification_error': 0.30073449395037583}, {'activation_func': 'tanh', 'epochs': 10, 'optimizer_method': 'SGD', 'hidden': [64], 'l2_reg': 0.1, 'classification_error': 0.093307943416757355}, {'activation_func': 'tanh', 'epochs': 10, 'optimizer_method': 'adadelta', 'hidden': [64], 'l2_reg': 0.1, 'classification_error': 0.12064744287268769}, {'activation_func': 'tanh', 'epochs': 10, 'optimizer_method': 'SGD', 'hidden': [64], 'l2_reg': 0.01, 'classification_error': 0.08133841131664854}, {'activation_func': 'tanh', 'epochs': 10, 'optimizer_method': 'adadelta', 'hidden': [64], 'l2_reg': 0.01, 'classification_error': 0.048014145810663766}, {'activation_func': 'tanh', 'epochs': 10, 'optimizer_method': 'SGD', 'hidden': [64], 'l2_reg': 0.001, 'classification_error': 0.093579978237214367}, {'activation_func': 'tanh', 'epochs': 10, 'optimizer_method': 'adadelta', 'hidden': [64], 'l2_reg': 0.001, 'classification_error': 0.038492927094668117}, {'activation_func': 'tanh', 'epochs': 10, 'optimizer_method': 'SGD', 'hidden': [64], 'l2_reg': 0.0001, 'classification_error': 0.10881392818280738}, {'activation_func': 'tanh', 'epochs': 10, 'optimizer_method': 'adadelta', 'hidden': [64], 'l2_reg': 0.0001, 'classification_error': 0.038900979325353635}, {'activation_func': 'tanh', 'epochs': 10, 'optimizer_method': 'SGD', 'hidden': [64], 'l2_reg': 0, 'classification_error': 0.082290533188248083}, {'activation_func': 'tanh', 'epochs': 10, 'optimizer_method': 'adadelta', 'hidden': [64], 'l2_reg': 0, 'classification_error': 0.037268770402611506}, {'activation_func': 'tanh', 'epochs': 10, 'optimizer_method': 'SGD', 'hidden': [32], 'l2_reg': 1, 'classification_error': 0.25462459198019838}, {'activation_func': 'tanh', 'epochs': 10, 'optimizer_method': 'adadelta', 'hidden': [32], 'l2_reg': 1, 'classification_error': 0.26128944498410811}, {'activation_func': 'tanh', 'epochs': 10, 'optimizer_method': 'SGD', 'hidden': [32], 'l2_reg': 0.1, 'classification_error': 0.093579978237214367}, {'activation_func': 'tanh', 'epochs': 10, 'optimizer_method': 'adadelta', 'hidden': [32], 'l2_reg': 0.1, 'classification_error': 0.10187704019629529}, {'activation_func': 'tanh', 'epochs': 10, 'optimizer_method': 'SGD', 'hidden': [32], 'l2_reg': 0.01, 'classification_error': 0.085554951033732285}, {'activation_func': 'tanh', 'epochs': 10, 'optimizer_method': 'adadelta', 'hidden': [32], 'l2_reg': 0.01, 'classification_error': 0.051278563656147969}, {'activation_func': 'tanh', 'epochs': 10, 'optimizer_method': 'SGD', 'hidden': [32], 'l2_reg': 0.001, 'classification_error': 0.081066376496191528}, {'activation_func': 'tanh', 'epochs': 10, 'optimizer_method': 'adadelta', 'hidden': [32], 'l2_reg': 0.001, 'classification_error': 0.045021762785636577}, {'activation_func': 'tanh', 'epochs': 10, 'optimizer_method': 'SGD', 'hidden': [32], 'l2_reg': 0.0001, 'classification_error': 0.084466811751904236}, {'activation_func': 'tanh', 'epochs': 10, 'optimizer_method': 'adadelta', 'hidden': [32], 'l2_reg': 0.0001, 'classification_error': 0.04434167573449399}, {'activation_func': 'tanh', 'epochs': 10, 'optimizer_method': 'SGD', 'hidden': [32], 'l2_reg': 0, 'classification_error': 0.085282916213275328}, {'activation_func': 'tanh', 'epochs': 10, 'optimizer_method': 'adadelta', 'hidden': [32], 'l2_reg': 0, 'classification_error': 0.044341675734494046}, {'activation_func': 'tanh', 'epochs': 10, 'optimizer_method': 'SGD', 'hidden': [10], 'l2_reg': 1, 'classification_error': 0.26060935815996911}, {'activation_func': 'tanh', 'epochs': 10, 'optimizer_method': 'adadelta', 'hidden': [10], 'l2_reg': 1, 'classification_error': 0.20443416747616217}, {'activation_func': 'tanh', 'epochs': 10, 'optimizer_method': 'SGD', 'hidden': [10], 'l2_reg': 0.1, 'classification_error': 0.11071817192600653}, {'activation_func': 'tanh', 'epochs': 10, 'optimizer_method': 'adadelta', 'hidden': [10], 'l2_reg': 0.1, 'classification_error': 0.099020674646354723}, {'activation_func': 'tanh', 'epochs': 10, 'optimizer_method': 'SGD', 'hidden': [10], 'l2_reg': 0.01, 'classification_error': 0.10214907508161042}, {'activation_func': 'tanh', 'epochs': 10, 'optimizer_method': 'adadelta', 'hidden': [10], 'l2_reg': 0.01, 'classification_error': 0.06338411316648529}, {'activation_func': 'tanh', 'epochs': 10, 'optimizer_method': 'SGD', 'hidden': [10], 'l2_reg': 0.001, 'classification_error': 0.10133297062023938}, {'activation_func': 'tanh', 'epochs': 10, 'optimizer_method': 'adadelta', 'hidden': [10], 'l2_reg': 0.001, 'classification_error': 0.059983677910772581}, {'activation_func': 'tanh', 'epochs': 10, 'optimizer_method': 'SGD', 'hidden': [10], 'l2_reg': 0.0001, 'classification_error': 0.092899891186071837}, {'activation_func': 'tanh', 'epochs': 10, 'optimizer_method': 'adadelta', 'hidden': [10], 'l2_reg': 0.0001, 'classification_error': 0.065968443960826961}, {'activation_func': 'tanh', 'epochs': 10, 'optimizer_method': 'SGD', 'hidden': [10], 'l2_reg': 0, 'classification_error': 0.10500544069640916}, {'activation_func': 'tanh', 'epochs': 10, 'optimizer_method': 'adadelta', 'hidden': [10], 'l2_reg': 0, 'classification_error': 0.059575625680087063}]"
   ]
  },
  {
   "cell_type": "markdown",
   "metadata": {},
   "source": [
    "### Entrenamiento del modelo final"
   ]
  },
  {
   "cell_type": "code",
   "execution_count": 14,
   "metadata": {
    "collapsed": false,
    "scrolled": true
   },
   "outputs": [
    {
     "name": "stdout",
     "output_type": "stream",
     "text": [
      "Train on 7352 samples, validate on 2947 samples\n",
      "Epoch 1/10\n",
      "7352/7352 [==============================] - 3s - loss: 0.8128 - acc: 0.8104 - val_loss: 0.3914 - val_acc: 0.8935\n",
      "Epoch 2/10\n",
      "7352/7352 [==============================] - 2s - loss: 0.4567 - acc: 0.9144 - val_loss: 0.2308 - val_acc: 0.9321\n",
      "Epoch 3/10\n",
      "7352/7352 [==============================] - 2s - loss: 0.3675 - acc: 0.9433 - val_loss: 0.2580 - val_acc: 0.8935\n",
      "Epoch 4/10\n",
      "7352/7352 [==============================] - 2s - loss: 0.3203 - acc: 0.9546 - val_loss: 0.1705 - val_acc: 0.9382\n",
      "Epoch 5/10\n",
      "7352/7352 [==============================] - 2s - loss: 0.2970 - acc: 0.9601 - val_loss: 0.2073 - val_acc: 0.9206\n",
      "Epoch 6/10\n",
      "7352/7352 [==============================] - 2s - loss: 0.2773 - acc: 0.9642 - val_loss: 0.2663 - val_acc: 0.8839\n",
      "Epoch 7/10\n",
      "7352/7352 [==============================] - 2s - loss: 0.2612 - acc: 0.9701 - val_loss: 0.1400 - val_acc: 0.9450\n",
      "Epoch 8/10\n",
      "7352/7352 [==============================] - 2s - loss: 0.2495 - acc: 0.9718 - val_loss: 0.1389 - val_acc: 0.9454\n",
      "Epoch 9/10\n",
      "7352/7352 [==============================] - 2s - loss: 0.2358 - acc: 0.9744 - val_loss: 0.1907 - val_acc: 0.9220\n",
      "Epoch 10/10\n",
      "7352/7352 [==============================] - 2s - loss: 0.2314 - acc: 0.9732 - val_loss: 0.1569 - val_acc: 0.9382\n"
     ]
    }
   ],
   "source": [
    "model = create_model(best_params)\n",
    "training_results = model.fit(np_X_train, np_Y_train, \n",
    "                             validation_data=(np_X_test, np_Y_test),\n",
    "                             nb_epoch=10)"
   ]
  },
  {
   "cell_type": "code",
   "execution_count": 15,
   "metadata": {
    "collapsed": false
   },
   "outputs": [
    {
     "data": {
      "text/plain": [
       "<matplotlib.text.Text at 0x7fe455a3b5d0>"
      ]
     },
     "execution_count": 15,
     "metadata": {},
     "output_type": "execute_result"
    },
    {
     "data": {
      "image/png": "[encoded data removed]",
      "text/plain": [
       "<matplotlib.figure.Figure at 0x7fe4caac6910>"
      ]
     },
     "metadata": {},
     "output_type": "display_data"
    }
   ],
   "source": [
    "pylab.plot(training_results.epoch, training_results.history['acc'], label='training')\n",
    "pylab.plot(training_results.epoch, training_results.history['val_acc'], label='test')\n",
    "pylab.legend(loc='lower right')\n",
    "pylab.xlabel(u\"Época\")\n",
    "pylab.ylabel(u\"Precisión\")\n",
    "pylab.title(u\"Precisión de clasificación vs época\")"
   ]
  },
  {
   "cell_type": "markdown",
   "metadata": {},
   "source": [
    "# Evaluating models"
   ]
  },
  {
   "cell_type": "code",
   "execution_count": 37,
   "metadata": {
    "collapsed": false
   },
   "outputs": [
    {
     "name": "stdout",
     "output_type": "stream",
     "text": [
      "7328/7352 [============================>.] - ETA: 0s\n",
      "E_in = 0.0214907508161\n"
     ]
    }
   ],
   "source": [
    "error = 1 - model.evaluate(np_X_train, np_Y_train)[1]\n",
    "print(\"\\nE_in = {}\".format(error))"
   ]
  },
  {
   "cell_type": "code",
   "execution_count": 38,
   "metadata": {
    "collapsed": false
   },
   "outputs": [
    {
     "name": "stdout",
     "output_type": "stream",
     "text": [
      "2912/2947 [============================>.] - ETA: 0s\n",
      "E_test = 0.061757719715\n"
     ]
    }
   ],
   "source": [
    "error = 1 - model.evaluate(np_X_test, np_Y_test)[1]\n",
    "print(\"\\nE_test = {}\".format(error))"
   ]
  },
  {
   "cell_type": "code",
   "execution_count": 41,
   "metadata": {
    "collapsed": false
   },
   "outputs": [
    {
     "name": "stdout",
     "output_type": "stream",
     "text": [
      "2912/2947 [============================>.] - ETA: 0s\n",
      "Matriz de confusión:\n",
      "[[526, 0, 11, 0, 0, 0], [0, 393, 96, 0, 0, 2], [0, 14, 518, 0, 0, 0], [0, 0, 0, 482, 9, 5], [0, 0, 0, 4, 392, 24], [0, 0, 1, 14, 2, 454]]\n"
     ]
    }
   ],
   "source": [
    "from sklearn.metrics import confusion_matrix\n",
    "classes = model.predict_classes(np_X_test)\n",
    "print \"\\nMatriz de confusión:\"\n",
    "print confusion_matrix(np.argmax(np_Y_test,axis=1), classes).tolist()"
   ]
  }
 ],
 "metadata": {
  "kernelspec": {
   "display_name": "Python 2",
   "language": "python",
   "name": "python2"
  },
  "language_info": {
   "codemirror_mode": {
    "name": "ipython",
    "version": 2
   },
   "file_extension": ".py",
   "mimetype": "text/x-python",
   "name": "python",
   "nbconvert_exporter": "python",
   "pygments_lexer": "ipython2",
   "version": "2.7.11"
  }
 },
 "nbformat": 4,
 "nbformat_minor": 0
}
